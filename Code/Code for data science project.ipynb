{
 "cells": [
  {
   "cell_type": "code",
   "execution_count": 7,
   "metadata": {},
   "outputs": [],
   "source": [
    "\n",
    "\n",
    "import numpy as np # linear algebra\n",
    "import pandas as pd # data processing\n",
    "\n",
    "\n",
    "\n",
    "import os\n",
    "for dirname, _, filenames in os.walk('/kaggle/input'):\n",
    "    for filename in filenames:\n",
    "        print(os.path.join(dirname, filename))\n",
    "\n"
   ]
  },
  {
   "cell_type": "code",
   "execution_count": 8,
   "metadata": {},
   "outputs": [],
   "source": [
    "import numpy as np\n",
    "import pandas as pd\n",
    "\n",
    "from matplotlib import pyplot as plt\n",
    "import seaborn as sns\n",
    "\n",
    "from sklearn.metrics import *\n",
    "from sklearn.model_selection import *\n",
    "from sklearn.preprocessing import *\n",
    "\n",
    "from sklearn.linear_model import *\n",
    "from sklearn.tree import *\n",
    "from sklearn.ensemble import*\n",
    "from sklearn.svm import SVR\n",
    "from sklearn.neural_network import MLPRegressor\n",
    "\n",
    "from xgboost import XGBClassifier\n",
    "from xgboost import XGBRegressor\n",
    "\n"
   ]
  },
  {
   "cell_type": "code",
   "execution_count": 9,
   "metadata": {},
   "outputs": [],
   "source": [
    "df = pd.read_csv('Sleep_Efficiency.csv')"
   ]
  },
  {
   "cell_type": "code",
   "execution_count": 10,
   "metadata": {},
   "outputs": [],
   "source": [
    "df['Gender']=df['Gender'].map({'Male':0, 'Female':1})"
   ]
  },
  {
   "cell_type": "code",
   "execution_count": 11,
   "metadata": {},
   "outputs": [],
   "source": [
    "df=df.drop(['Bedtime','Wakeup time'], axis=1)"
   ]
  },
  {
   "cell_type": "code",
   "execution_count": 6,
   "metadata": {},
   "outputs": [
    {
     "data": {
      "text/plain": [
       "ID                        452\n",
       "Age                       452\n",
       "Gender                    452\n",
       "Sleep duration            452\n",
       "Sleep efficiency          452\n",
       "REM sleep percentage      452\n",
       "Deep sleep percentage     452\n",
       "Light sleep percentage    452\n",
       "Awakenings                432\n",
       "Caffeine consumption      427\n",
       "Alcohol consumption       438\n",
       "Smoking status            452\n",
       "Exercise frequency        446\n",
       "dtype: int64"
      ]
     },
     "execution_count": 6,
     "metadata": {},
     "output_type": "execute_result"
    }
   ],
   "source": [
    "df.count()"
   ]
  },
  {
   "cell_type": "code",
   "execution_count": 12,
   "metadata": {},
   "outputs": [
    {
     "data": {
      "text/plain": [
       "3.0    130\n",
       "0.0    116\n",
       "1.0     97\n",
       "2.0     54\n",
       "4.0     41\n",
       "5.0      8\n",
       "Name: Exercise frequency, dtype: int64"
      ]
     },
     "execution_count": 12,
     "metadata": {},
     "output_type": "execute_result"
    }
   ],
   "source": [
    "df['Awakenings'].value_counts()\n",
    "df['Caffeine consumption'].value_counts()\n",
    "df['Alcohol consumption'].value_counts()\n",
    "df['Exercise frequency'].value_counts()"
   ]
  },
  {
   "cell_type": "code",
   "execution_count": null,
   "metadata": {},
   "outputs": [],
   "source": [
    "df['Awakenings']=df['Awakenings'].fillna('1.0')\n",
    "df['Caffeine consumption']=df['Caffeine consumption'].fillna('0.0')\n",
    "df['Alcohol consumption']=df['Alcohol consumption'].fillna('0.0')\n",
    "df['Exercise frequency']=df['Exercise frequency'].fillna('3.0')"
   ]
  },
  {
   "cell_type": "code",
   "execution_count": null,
   "metadata": {},
   "outputs": [],
   "source": [
    "df.head()"
   ]
  },
  {
   "cell_type": "code",
   "execution_count": null,
   "metadata": {},
   "outputs": [],
   "source": [
    "\n",
    "# Use map to replace \"Yes\" with 1 and \"No\" with 0\n",
    "df[\"Smoking status\"] = df[\"Smoking status\"].map({'Yes': 1, 'No': 0})\n"
   ]
  },
  {
   "cell_type": "code",
   "execution_count": null,
   "metadata": {},
   "outputs": [],
   "source": [
    "summary = df.describe()\n",
    "\n",
    "# Distribution of the  variable cible \"Sleep efficiency\"\n",
    "plt.figure(figsize=(8, 6))\n",
    "sns.distplot(df[\"Sleep efficiency\"], kde=True, bins=20)\n",
    "\n",
    "plt.title(\"Distribution of Sleep efficiency\")\n",
    "plt.xlabel(\"Sleep efficiency\")\n",
    "plt.ylabel(\"Frequency\")\n",
    "plt.show()\n",
    "\n",
    "# Correlation Matrix\n",
    "correlation_matrix = df.corr()\n",
    "plt.figure(figsize=(10, 8))\n",
    "sns.heatmap(correlation_matrix, annot=True, cmap=\"coolwarm\")\n",
    "plt.title(\"Correlation matrix\")\n",
    "plt.show()\n",
    "\n",
    "# Pairplot for selected variables\n",
    "selected_features = [\"Age\", \"Gender\", \"REM sleep percentage\", \"Deep sleep percentage\", \"Light sleep percentage\", \"Awakenings\"]\n",
    "\n",
    "selected_df = df[selected_features]\n",
    "#\n",
    "selected_df = df[selected_features].dropna()\n",
    "\n",
    "#  Ensure Numeric Types\n",
    "selected_df = selected_df.apply(pd.to_numeric, errors='coerce')\n",
    "\n",
    "# Plotting\n",
    "sns.pairplot(selected_df)\n",
    "plt.suptitle(\"Pairplot for selected variables\", y=1.02)\n",
    "plt.show()\n",
    "#\n",
    "sns.pairplot(selected_df)\n",
    "plt.suptitle(\"Pairplot for selected variables\", y=1.02)\n",
    "plt.show()\n"
   ]
  },
  {
   "cell_type": "code",
   "execution_count": null,
   "metadata": {},
   "outputs": [],
   "source": [
    "# The impact of caffeine consumption on sleep efficiency\n",
    "plt.figure(figsize=(12, 6))\n",
    "sns.boxplot(x='Caffeine consumption', y='Sleep efficiency', data=df)\n",
    "plt.title('Impact of Caffeine Consumption on Sleep Efficiency')\n",
    "plt.xlabel('Caffeine Consumption')\n",
    "plt.ylabel('Sleep Efficiency')\n",
    "plt.show()\n"
   ]
  },
  {
   "cell_type": "code",
   "execution_count": null,
   "metadata": {},
   "outputs": [],
   "source": [
    "# The impact of alcohol consumption on sleep efficiency\n",
    "plt.figure(figsize=(12, 6))\n",
    "sns.boxplot(x='Alcohol consumption', y='Sleep efficiency', data=df)\n",
    "plt.title('Impact of Alcohol Consumption on Sleep Efficiency')\n",
    "plt.xlabel('Alcohol Consumption')\n",
    "plt.ylabel('Sleep Efficiency')\n",
    "plt.show()\n"
   ]
  },
  {
   "cell_type": "code",
   "execution_count": null,
   "metadata": {},
   "outputs": [],
   "source": [
    "# Statistical analysis\n",
    "caffeine_stats = df.groupby('Caffeine consumption')['Sleep efficiency'].describe()\n",
    "alcohol_stats = df.groupby('Alcohol consumption')['Sleep efficiency'].describe()\n",
    "\n",
    "# Print statistical summaries\n",
    "print(\"Caffeine Consumption Statistics:\")\n",
    "print(caffeine_stats)\n",
    "\n",
    "print(\"\\nAlcohol Consumption Statistics:\")\n",
    "print(alcohol_stats)"
   ]
  },
  {
   "cell_type": "code",
   "execution_count": null,
   "metadata": {},
   "outputs": [],
   "source": [
    "X = df[[\"Age\", \"Gender\", \"REM sleep percentage\", \"Deep sleep percentage\", \"Light sleep percentage\", \"Awakenings\"]]\n",
    "y = df[\"Sleep efficiency\"]\n",
    "\n",
    "\n",
    "X_train, X_test, y_train, y_test = train_test_split(X, y, test_size=0.2, random_state=42)\n",
    "\n",
    "model = LinearRegression()\n",
    "\n",
    "model.fit(X_train, y_train)\n",
    "y_pred = model.predict(X_test)\n",
    "\n",
    "mse = mean_squared_error(y_test, y_pred)\n",
    "r2 = r2_score(y_test, y_pred)\n",
    "\n",
    "print(\"MSE:\", mse)\n",
    "print(\"R2:\", r2)"
   ]
  },
  {
   "cell_type": "code",
   "execution_count": null,
   "metadata": {},
   "outputs": [],
   "source": [
    "plt.figure(figsize=(15, 10))\n",
    "\n",
    "for i, feature in enumerate([\"Age\", \"Gender\", \"REM sleep percentage\", \"Deep sleep percentage\", \"Light sleep percentage\", \"Awakenings\"]):\n",
    "    plt.subplot(2, 3, i + 1)\n",
    "    plt.scatter(df[feature], df[\"Sleep efficiency\"], alpha=0.5)\n",
    "    plt.xlabel(feature)\n",
    "    plt.ylabel(\"Sleep efficiency\")\n",
    "    plt.title(f\"Sleep efficiency vs {feature}\")\n",
    "\n",
    "plt.tight_layout()\n",
    "plt.show()"
   ]
  },
  {
   "cell_type": "code",
   "execution_count": null,
   "metadata": {},
   "outputs": [],
   "source": [
    "# Plotting Age vs Sleep Efficiency\n",
    "plt.figure(figsize=(8, 5))\n",
    "plt.scatter(df['Age'], df['Sleep efficiency'], color='blue', alpha=0.7)\n",
    "plt.title('Age vs Sleep efficiency')\n",
    "plt.xlabel('Age')\n",
    "plt.ylabel('Sleep efficiency')\n",
    "plt.grid(True)\n",
    "plt.show()"
   ]
  },
  {
   "cell_type": "code",
   "execution_count": null,
   "metadata": {},
   "outputs": [],
   "source": [
    "X_train, X_test, y_train, y_test = train_test_split(X, y, test_size=0.2, random_state=42)\n",
    "\n",
    "num_folds = 5\n",
    "\n",
    "linear_reg = LinearRegression()\n",
    "ridge_reg = Ridge()\n",
    "lasso_reg = Lasso()\n",
    "random_forest_reg = RandomForestRegressor()\n",
    "\n",
    "linear_reg.fit(X_train, y_train)\n",
    "ridge_reg.fit(X_train, y_train)\n",
    "lasso_reg.fit(X_train, y_train)\n",
    "random_forest_reg.fit(X_train, y_train)\n",
    "\n",
    "y_hat_linear = linear_reg.predict(X_test)\n",
    "y_hat_ridge = ridge_reg.predict(X_test)\n",
    "y_hat_lasso = lasso_reg.predict(X_test)\n",
    "y_hat_rf = random_forest_reg.predict(X_test)\n",
    "\n",
    "mse_linear = mean_squared_error(y_test, y_hat_linear)\n",
    "r2_linear = r2_score(y_test, y_hat_linear)\n",
    "\n",
    "scores1 = cross_val_score(linear_reg, X, y, cv=num_folds, scoring='neg_mean_squared_error')\n",
    "mse_scores1=-scores1\n",
    "mean_mse1 = mse_scores1.mean()\n",
    "std_mse1 = mse_scores1.std()\n",
    "\n",
    "#accuracy1 = accuracy_score(y_test, y_hat_linear)\n",
    "\n",
    "mse_ridge = mean_squared_error(y_test, y_hat_ridge)\n",
    "r2_ridge = r2_score(y_test, y_hat_ridge)\n",
    "\n",
    "scores2 = cross_val_score(ridge_reg, X, y, cv=num_folds, scoring='neg_mean_squared_error')\n",
    "mse_scores2=-scores2\n",
    "mean_mse2 = mse_scores2.mean()\n",
    "std_mse2 = mse_scores2.std()\n",
    "\n",
    "#accuracy2 = accuracy_score(y_test, y_hat_ridge)\n",
    "\n",
    "mse_lasso = mean_squared_error(y_test, y_hat_lasso)\n",
    "r2_lasso = r2_score(y_test, y_hat_lasso)\n",
    "\n",
    "scores3 = cross_val_score(lasso_reg, X, y, cv=num_folds, scoring='neg_mean_squared_error')\n",
    "mse_scores3=-scores3\n",
    "mean_mse3 = mse_scores3.mean()\n",
    "std_mse3 = mse_scores3.std()\n",
    "\n",
    "#accuracy3 = accuracy_score(y_test, y_hat_lasso)\n",
    "\n",
    "mse_rf = mean_squared_error(y_test, y_hat_rf)\n",
    "r2_rf = r2_score(y_test, y_hat_rf)\n",
    "\n",
    "scores4 = cross_val_score(random_forest_reg, X, y, cv=num_folds, scoring='neg_mean_squared_error')\n",
    "mse_scores4=-scores4\n",
    "mean_mse4 = mse_scores4.mean()\n",
    "std_mse4 = mse_scores4.std()\n",
    "\n",
    "#accuracy4 = accuracy_score(y_test, y_hat_rf)\n",
    "\n",
    "print(\"Linear Regression - MSE:\", mse_linear, \"R2:\", r2_linear, \"\\n\", \"Cross-validation score:\", mse_scores1, f\"Mean MSE: {mean_mse1:.4f}, Standard Deviation MSE: {std_mse1:.4f}\")\n",
    "print(\"Ridge Regression - MSE:\", mse_ridge, \"R2:\", r2_ridge, \"\\n\", \"Cross-validation score:\", mse_scores2, f\"Mean MSE: {mean_mse2:.4f}, Standard Deviation MSE: {std_mse2:.4f}\")\n",
    "print(\"Lasso Regression - MSE:\", mse_lasso, \"R2:\", r2_lasso, \"\\n\", \"Cross-validation score:\", mse_scores3, f\"Mean MSE: {mean_mse3:.4f}, Standard Deviation MSE: {std_mse3:.4f}\")\n",
    "print(\"Random Forest - MSE:\", mse_rf, \"R2:\", r2_rf, \"\\n\", \"Cross-validation score:\", mse_scores4, f\"Mean MSE: {mean_mse4:.4f}, Standard Deviation MSE: {std_mse4:.4f}\")\n"
   ]
  },
  {
   "cell_type": "code",
   "execution_count": null,
   "metadata": {},
   "outputs": [],
   "source": [
    "#"
   ]
  },
  {
   "cell_type": "code",
   "execution_count": null,
   "metadata": {},
   "outputs": [],
   "source": [
    "# Polynomial Regression\n",
    "poly = PolynomialFeatures(degree=2)\n",
    "X_poly = poly.fit_transform(X_train)\n",
    "poly_reg = LinearRegression()\n",
    "poly_reg.fit(X_poly, y_train)\n",
    "\n",
    "y_hat_poly = poly_reg.predict(poly.transform(X_test))\n",
    "mse_poly = mean_squared_error(y_test, y_hat_poly)\n",
    "r2_poly = r2_score(y_test, y_hat_poly)\n",
    "\n",
    "# Neural Networks\n",
    "nn_reg = MLPRegressor(hidden_layer_sizes=(100, 100), max_iter=1000)\n",
    "nn_reg.fit(X_train, y_train)\n",
    "\n",
    "y_hat_nn = nn_reg.predict(X_test)\n",
    "mse_nn = mean_squared_error(y_test, y_hat_nn)\n",
    "r2_nn = r2_score(y_test, y_hat_nn)\n",
    "\n",
    "# Gradient Boosting\n",
    "gb_reg = GradientBoostingRegressor(n_estimators=100, learning_rate=0.1, max_depth=3, random_state=42)\n",
    "gb_reg.fit(X_train, y_train)\n",
    "\n",
    "y_hat_gb = gb_reg.predict(X_test)\n",
    "mse_gb = mean_squared_error(y_test, y_hat_gb)\n",
    "r2_gb = r2_score(y_test, y_hat_gb)\n",
    "\n",
    "print(\"Polynomial Regression - MSE:\", mse_poly, \"R2:\", r2_poly, \"\\n\")\n",
    "print(\"Neural Networks - MSE:\", mse_nn, \"R2:\", r2_nn, \"\\n\")\n",
    "print(\"Gradient Boosting - MSE:\", mse_gb, \"R2:\", r2_gb, \"\\n\")\n"
   ]
  },
  {
   "cell_type": "code",
   "execution_count": null,
   "metadata": {},
   "outputs": [],
   "source": []
  },
  {
   "cell_type": "code",
   "execution_count": null,
   "metadata": {},
   "outputs": [],
   "source": [
    "feature_importance = gb_reg.feature_importances_\n",
    "\n",
    "feature_names = X.columns\n",
    "\n",
    "# Sorting features by descending order of importance\n",
    "sorted_idx = feature_importance.argsort()[::-1]\n",
    "\n",
    "# Bar chart to visualize the importance of features\n",
    "plt.figure(figsize=(10, 6))\n",
    "plt.bar(range(len(feature_importance)), feature_importance[sorted_idx], align=\"center\")\n",
    "plt.xticks(range(len(feature_importance)), [feature_names[i] for i in sorted_idx], rotation=45)\n",
    "plt.xlabel(\"Features\")\n",
    "plt.ylabel(\"Importance\")\n",
    "plt.title(\"Feature Importance - Gradient Boosting Model\")\n",
    "plt.show()\n",
    "\n"
   ]
  },
  {
   "cell_type": "code",
   "execution_count": null,
   "metadata": {},
   "outputs": [],
   "source": []
  },
  {
   "cell_type": "code",
   "execution_count": null,
   "metadata": {},
   "outputs": [],
   "source": []
  },
  {
   "cell_type": "code",
   "execution_count": null,
   "metadata": {},
   "outputs": [],
   "source": []
  },
  {
   "cell_type": "code",
   "execution_count": null,
   "metadata": {},
   "outputs": [],
   "source": []
  }
 ],
 "metadata": {
  "kernelspec": {
   "display_name": "Python 3",
   "language": "python",
   "name": "python3"
  },
  "language_info": {
   "codemirror_mode": {
    "name": "ipython",
    "version": 3
   },
   "file_extension": ".py",
   "mimetype": "text/x-python",
   "name": "python",
   "nbconvert_exporter": "python",
   "pygments_lexer": "ipython3",
   "version": "3.6.10"
  }
 },
 "nbformat": 4,
 "nbformat_minor": 2
}
